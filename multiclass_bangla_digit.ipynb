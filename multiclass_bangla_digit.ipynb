{
  "nbformat": 4,
  "nbformat_minor": 0,
  "metadata": {
    "kernelspec": {
      "display_name": "Python 3",
      "language": "python",
      "name": "python3"
    },
    "language_info": {
      "codemirror_mode": {
        "name": "ipython",
        "version": 3
      },
      "file_extension": ".py",
      "mimetype": "text/x-python",
      "name": "python",
      "nbconvert_exporter": "python",
      "pygments_lexer": "ipython3",
      "version": "3.7.6"
    },
    "colab": {
      "name": "multiclass_bangla_digit.ipynb",
      "provenance": []
    }
  },
  "cells": [
    {
      "cell_type": "code",
      "metadata": {
        "id": "gwjgOTj8aXvg",
        "colab_type": "code",
        "colab": {}
      },
      "source": [
        "import numpy as np\n",
        "import cv2\n",
        "import os"
      ],
      "execution_count": null,
      "outputs": []
    },
    {
      "cell_type": "code",
      "metadata": {
        "id": "xF3828gxaXvm",
        "colab_type": "code",
        "colab": {},
        "outputId": "271d8a60-9f1f-444d-f347-9d896048decf"
      },
      "source": [
        "LABELS = open('custom.names').read().split('\\n')\n",
        "LABELS"
      ],
      "execution_count": null,
      "outputs": [
        {
          "output_type": "execute_result",
          "data": {
            "text/plain": [
              "['one',\n",
              " 'two',\n",
              " 'three',\n",
              " 'four',\n",
              " 'five',\n",
              " 'six',\n",
              " 'seven',\n",
              " 'eight',\n",
              " 'nine',\n",
              " 'zero']"
            ]
          },
          "metadata": {
            "tags": []
          },
          "execution_count": 5
        }
      ]
    },
    {
      "cell_type": "code",
      "metadata": {
        "id": "uCHGIcmQaXvs",
        "colab_type": "code",
        "colab": {},
        "outputId": "b5bdddd2-f33b-42ec-f271-de5aaa7406b5"
      },
      "source": [
        "np.random.seed(42)\n",
        "COLORS = np.random.randint(0, 255, size=(len(LABELS), 3),dtype=\"uint8\")\n",
        "weightsPath = 'yolov3-tiny-obj_6000.weights'\n",
        "configPath = './LICT_YOLO/data_for_colab/yolov3-tiny-obj.cfg'\n",
        "\n",
        "print(\"[INFO] loading YOLO from disk...\")\n",
        "net = cv2.dnn.readNetFromDarknet(configPath, weightsPath)\n",
        " \n",
        "cap = cv2.VideoCapture(0)\n",
        "   \n",
        "image = cv2.imread('108183233_2568151150119292_4462451455775173689_n.jpg')\n",
        "#image = cv2.imread('2020-07-17_0-57-04(1).jpg')\n",
        "(H, W) = image.shape[:2]\n",
        "# determine only the *output* layer names that we need from YOLO\n",
        "ln = net.getLayerNames()\n",
        "ln = [ln[i[0] - 1] for i in net.getUnconnectedOutLayers()]\n",
        "# construct a blob from the input image and then perform a forward\n",
        "# pass of the YOLO object detector, giving us our bounding boxes and\n",
        "# associated probabilities\n",
        "blob = cv2.dnn.blobFromImage(image, 1 / 255.0, (416, 416),\n",
        "    swapRB=True, crop=False)\n",
        "net.setInput(blob)\n",
        "layerOutputs = net.forward(ln)\n",
        "\n",
        "boxes = []\n",
        "confidences = []\n",
        "classIDs = []\n",
        " \n",
        " \n",
        "for output in layerOutputs:\n",
        "    for detection in output:\n",
        "        scores = detection[5:]\n",
        "        classID = np.argmax(scores)\n",
        "        confidence = scores[classID]\n",
        "        if confidence > 0.1:\n",
        "            box = detection[0:4] * np.array([W, H, W, H])\n",
        "            (centerX, centerY, width, height) = box.astype(\"int\")\n",
        "            x = int(centerX - (width / 2))\n",
        "            y = int(centerY - (height / 2))\n",
        "            boxes.append([x, y, int(width), int(height)])\n",
        "            confidences.append(float(confidence))\n",
        "            classIDs.append(classID)\n",
        " \n",
        "idxs = cv2.dnn.NMSBoxes(boxes, confidences, 0.3, 0.3)\n",
        "if len(idxs) > 0:\n",
        "    for i in idxs.flatten():\n",
        "        (x, y) = (boxes[i][0], boxes[i][1])\n",
        "        (w, h) = (boxes[i][2], boxes[i][3])\n",
        "        color = [int(c) for c in COLORS[classIDs[i]]]\n",
        "        cv2.rectangle(image, (x, y), (x + w, y + h), color, 2)\n",
        "        text = \"{}: {:.4f}\".format(LABELS[classIDs[i]], confidences[i])\n",
        "        cv2.putText(image, text, (x, y - 5), cv2.FONT_HERSHEY_SIMPLEX,\n",
        "            0.5, color, 2)\n",
        "cv2.imshow('output', image)\n",
        "cv2.waitKey(0)\n",
        "cv2.destroyAllWindows()"
      ],
      "execution_count": null,
      "outputs": [
        {
          "output_type": "stream",
          "text": [
            "[INFO] loading YOLO from disk...\n"
          ],
          "name": "stdout"
        }
      ]
    },
    {
      "cell_type": "code",
      "metadata": {
        "id": "BJJUVsuAaXvv",
        "colab_type": "code",
        "colab": {}
      },
      "source": [
        ""
      ],
      "execution_count": null,
      "outputs": []
    }
  ]
}