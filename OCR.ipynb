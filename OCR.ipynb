{
  "nbformat": 4,
  "nbformat_minor": 0,
  "metadata": {
    "kernelspec": {
      "display_name": "Python 3",
      "language": "python",
      "name": "python3"
    },
    "language_info": {
      "codemirror_mode": {
        "name": "ipython",
        "version": 3
      },
      "file_extension": ".py",
      "mimetype": "text/x-python",
      "name": "python",
      "nbconvert_exporter": "python",
      "pygments_lexer": "ipython3",
      "version": "3.7.6"
    },
    "colab": {
      "name": "OCR.ipynb",
      "provenance": []
    }
  },
  "cells": [
    {
      "cell_type": "code",
      "metadata": {
        "id": "jk5oksoUZM2i",
        "colab_type": "code",
        "colab": {}
      },
      "source": [
        "import numpy as np\n",
        "import cv2\n",
        "import os\n",
        "import matplotlib.pyplot as plt\n",
        "import keras\n",
        "from keras import Sequential\n",
        "from keras.layers import Conv2D, Dense, MaxPooling2D, BatchNormalization, Flatten, Dropout"
      ],
      "execution_count": null,
      "outputs": []
    },
    {
      "cell_type": "code",
      "metadata": {
        "id": "6Riu6lo9ZM2m",
        "colab_type": "code",
        "colab": {},
        "outputId": "cb76293d-cd34-4860-e31e-51ee0dee2097"
      },
      "source": [
        "LABELS = open('custom.names.txt').read().split('\\n')\n",
        "np.random.seed(42)\n",
        "COLORS = np.random.randint(0, 255, size=(len(LABELS), 3),dtype=\"uint8\")\n",
        "weightsPath = 'bangla-digit_2000.weights'\n",
        "configPath = './LICT_YOLO/data_for_colab/yolov3-tiny-obj.cfg'\n",
        "\n",
        "print(\"[INFO] loading YOLO from disk...\")\n",
        "net = cv2.dnn.readNetFromDarknet(configPath, weightsPath)"
      ],
      "execution_count": null,
      "outputs": [
        {
          "output_type": "stream",
          "text": [
            "[INFO] loading YOLO from disk...\n"
          ],
          "name": "stdout"
        }
      ]
    },
    {
      "cell_type": "code",
      "metadata": {
        "id": "7oYJw52RZM2q",
        "colab_type": "code",
        "colab": {}
      },
      "source": [
        "image = cv2.imread('2.jpg')\n",
        "(H, W) = image.shape[:2]\n",
        "# determine only the *output* layer names that we need from YOLO\n",
        "ln = net.getLayerNames()\n",
        "ln = [ln[i[0] - 1] for i in net.getUnconnectedOutLayers()]\n",
        "# construct a blob from the input image and then perform a forward\n",
        "# pass of the YOLO object detector, giving us our bounding boxes and\n",
        "# associated probabilities\n",
        "blob = cv2.dnn.blobFromImage(image, 1 / 255.0, (416, 416),\n",
        "    swapRB=True, crop=False)\n",
        "net.setInput(blob)\n",
        "layerOutputs = net.forward(ln)\n",
        "\n",
        "boxes = []\n",
        "confidences = []\n",
        "classIDs = []"
      ],
      "execution_count": null,
      "outputs": []
    },
    {
      "cell_type": "code",
      "metadata": {
        "id": "wBfyHz08ZM2s",
        "colab_type": "code",
        "colab": {}
      },
      "source": [
        "for output in layerOutputs:\n",
        "    for detection in output:\n",
        "        scores = detection[5:]\n",
        "        classID = np.argmax(scores)\n",
        "        confidence = scores[classID]\n",
        "        if confidence > 0.1:\n",
        "            box = detection[0:4] * np.array([W, H, W, H])\n",
        "            (centerX, centerY, width, height) = box.astype(\"int\")\n",
        "            x = int(centerX - (width / 2))\n",
        "            y = int(centerY - (height / 2))\n",
        "            boxes.append([x, y, int(width), int(height)])\n",
        "            confidences.append(float(confidence))\n",
        "            classIDs.append(classID)\n",
        " \n",
        "idxs = cv2.dnn.NMSBoxes(boxes, confidences, 0.3, 0.3)"
      ],
      "execution_count": null,
      "outputs": []
    },
    {
      "cell_type": "code",
      "metadata": {
        "id": "Ygi4Qps3ZM2v",
        "colab_type": "code",
        "colab": {},
        "outputId": "faed999c-293c-4c59-8fcd-c2aede2501da"
      },
      "source": [
        "boxes"
      ],
      "execution_count": null,
      "outputs": [
        {
          "output_type": "execute_result",
          "data": {
            "text/plain": [
              "[[21, 1, 62, 13],\n",
              " [265, 90, 155, 86],\n",
              " [542, 94, 149, 72],\n",
              " [1315, 78, 166, 112],\n",
              " [39, 101, 105, 89],\n",
              " [802, 97, 152, 100],\n",
              " [1029, 101, 155, 104]]"
            ]
          },
          "metadata": {
            "tags": []
          },
          "execution_count": 5
        }
      ]
    },
    {
      "cell_type": "code",
      "metadata": {
        "id": "7wbQ_Si-ZM2y",
        "colab_type": "code",
        "colab": {}
      },
      "source": [
        "boxes = np.array(boxes)"
      ],
      "execution_count": null,
      "outputs": []
    },
    {
      "cell_type": "code",
      "metadata": {
        "id": "4todwU3LZM21",
        "colab_type": "code",
        "colab": {},
        "outputId": "93f95c3f-8d00-4821-b121-9447ba14c35d"
      },
      "source": [
        "len(boxes)"
      ],
      "execution_count": null,
      "outputs": [
        {
          "output_type": "execute_result",
          "data": {
            "text/plain": [
              "7"
            ]
          },
          "metadata": {
            "tags": []
          },
          "execution_count": 7
        }
      ]
    },
    {
      "cell_type": "code",
      "metadata": {
        "id": "sQS2Z6BsZM25",
        "colab_type": "code",
        "colab": {}
      },
      "source": [
        "boxes = boxes[boxes[:, 0].argsort()]"
      ],
      "execution_count": null,
      "outputs": []
    },
    {
      "cell_type": "code",
      "metadata": {
        "id": "PyDCw61kZM28",
        "colab_type": "code",
        "colab": {},
        "outputId": "2ba8c0fc-93d5-4dba-fb82-d9e31fcaf70f"
      },
      "source": [
        "boxes.shape"
      ],
      "execution_count": null,
      "outputs": [
        {
          "output_type": "execute_result",
          "data": {
            "text/plain": [
              "(7, 4)"
            ]
          },
          "metadata": {
            "tags": []
          },
          "execution_count": 9
        }
      ]
    },
    {
      "cell_type": "code",
      "metadata": {
        "id": "QqsCo6KXZM2-",
        "colab_type": "code",
        "colab": {},
        "outputId": "83acee62-0e6e-400a-d2d6-b6edbfaf5340"
      },
      "source": [
        "temp = []\n",
        "for i in range(1, len(boxes)):\n",
        "    (x,y,w,h) = boxes[i]\n",
        "    resized_images = cv2.resize(image[y:y+h, x:x+w], (64,64))\n",
        "    gray_images = resized_images[:,:,0]\n",
        "    ret, b_img = cv2.threshold(gray_images,128,255,cv2. THRESH_BINARY_INV)  \n",
        "    temp.append(b_img)\n",
        "    plt.subplot(4,4,i)\n",
        "    plt.imshow(b_img)\n",
        "    \n",
        "b_img = np.array(temp)  "
      ],
      "execution_count": null,
      "outputs": [
        {
          "output_type": "display_data",
          "data": {
            "image/png": "[encoded data removed]",
            "text/plain": [
              "<Figure size 432x288 with 6 Axes>"
            ]
          },
          "metadata": {
            "tags": [],
            "needs_background": "light"
          }
        }
      ]
    },
    {
      "cell_type": "code",
      "metadata": {
        "id": "S9p0lt-cZM3B",
        "colab_type": "code",
        "colab": {},
        "outputId": "c5970c78-6488-4d86-d3bb-7e86537e9999"
      },
      "source": [
        "b_img.shape"
      ],
      "execution_count": null,
      "outputs": [
        {
          "output_type": "execute_result",
          "data": {
            "text/plain": [
              "(6, 64, 64)"
            ]
          },
          "metadata": {
            "tags": []
          },
          "execution_count": 11
        }
      ]
    },
    {
      "cell_type": "code",
      "metadata": {
        "id": "lSuhACywZM3D",
        "colab_type": "code",
        "colab": {},
        "outputId": "2e8fd86b-8b15-4b77-c327-61f3d73b1eaa"
      },
      "source": [
        "b_img = b_img.reshape(-1,64,64,1)\n",
        "b_img.shape"
      ],
      "execution_count": null,
      "outputs": [
        {
          "output_type": "execute_result",
          "data": {
            "text/plain": [
              "(6, 64, 64, 1)"
            ]
          },
          "metadata": {
            "tags": []
          },
          "execution_count": 12
        }
      ]
    },
    {
      "cell_type": "code",
      "metadata": {
        "id": "I6JQYT_WZM3G",
        "colab_type": "code",
        "colab": {}
      },
      "source": [
        "model = Sequential()\n",
        "model.add(Conv2D(64, (5, 5), input_shape=(64, 64, 1), activation='relu', padding='same'))\n",
        "model.add(Conv2D(64, (5, 5), activation='relu'))\n",
        "model.add(MaxPooling2D((2, 2), strides=(2, 2)))\n",
        "model.add(Conv2D(128, (3, 3), activation='relu'))\n",
        "model.add(BatchNormalization())\n",
        "\n",
        "model.add(Conv2D(128, (3, 3), activation='relu'))\n",
        "model.add(MaxPooling2D((2, 2), strides=(2, 2)))\n",
        "model.add(Conv2D(512, (3, 3), activation='relu'))\n",
        "model.add(BatchNormalization())\n",
        "\n",
        "model.add(Conv2D(512, (3, 3), activation='relu'))\n",
        "model.add(BatchNormalization())\n",
        "model.add(Conv2D(512, (3, 3), activation='relu'))\n",
        "model.add(MaxPooling2D((2, 2), strides=(2, 2)))\n",
        "model.add(Flatten())\n",
        "\n",
        "model.add(Dense(256, activation='relu'))\n",
        "model.add(Dropout(0.4))\n",
        "model.add(Dense(256, activation='relu'))\n",
        "model.add(Dropout(0.25))\n",
        "model.add(Dense(10, activation='softmax'))\n",
        " \n",
        "model.load_weights('digit-classifier.h5')"
      ],
      "execution_count": null,
      "outputs": []
    },
    {
      "cell_type": "code",
      "metadata": {
        "id": "9QyE-EuoZM3I",
        "colab_type": "code",
        "colab": {}
      },
      "source": [
        "#y_pred = model.predict(b_img)\n",
        "#y_pred"
      ],
      "execution_count": null,
      "outputs": []
    },
    {
      "cell_type": "code",
      "metadata": {
        "id": "E-sLbqTXZM3L",
        "colab_type": "code",
        "colab": {}
      },
      "source": [
        "#for i in range(len(y_pred)):\n",
        "    #print(np.argmax(y_pred[i]))"
      ],
      "execution_count": null,
      "outputs": []
    },
    {
      "cell_type": "code",
      "metadata": {
        "id": "ZqwT528FZM3N",
        "colab_type": "code",
        "colab": {},
        "outputId": "99c488cb-905a-4ced-869e-87e3189669ea"
      },
      "source": [
        "s = \"\"\n",
        "for i in range(len(temp)):\n",
        "    y_pred = model.predict(b_img)\n",
        "    title = np.argmax(y_pred[i])\n",
        "    s = s+(str(title))\n",
        "\n",
        "plt.imshow(image)\n",
        "plt.title(s)"
      ],
      "execution_count": null,
      "outputs": [
        {
          "output_type": "execute_result",
          "data": {
            "text/plain": [
              "Text(0.5, 1.0, '843675')"
            ]
          },
          "metadata": {
            "tags": []
          },
          "execution_count": 16
        },
        {
          "output_type": "display_data",
          "data": {
            "image/png": "[encoded data removed]",
            "text/plain": [
              "<Figure size 432x288 with 1 Axes>"
            ]
          },
          "metadata": {
            "tags": [],
            "needs_background": "light"
          }
        }
      ]
    },
    {
      "cell_type": "code",
      "metadata": {
        "id": "Zo4jskpNZM3P",
        "colab_type": "code",
        "colab": {}
      },
      "source": [
        ""
      ],
      "execution_count": null,
      "outputs": []
    }
  ]
}